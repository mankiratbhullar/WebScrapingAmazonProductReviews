{
  "nbformat": 4,
  "nbformat_minor": 0,
  "metadata": {
    "colab": {
      "provenance": []
    },
    "kernelspec": {
      "name": "python3",
      "display_name": "Python 3"
    }
  },
  "cells": [
    {
      "cell_type": "code",
      "metadata": {
        "id": "vBF3NfKWkT2W"
      },
      "source": [
        "import requests\n",
        "from bs4 import BeautifulSoup"
      ],
      "execution_count": 17,
      "outputs": []
    },
    {
      "cell_type": "code",
      "source": [
        "import pandas as pd"
      ],
      "metadata": {
        "id": "Y-kgog0cde9D"
      },
      "execution_count": 18,
      "outputs": []
    },
    {
      "cell_type": "code",
      "metadata": {
        "colab": {
          "base_uri": "https://localhost:8080/"
        },
        "id": "K2E9-HemkZeO",
        "outputId": "5b6aa170-d163-458a-bb36-baf4115cea0c"
      },
      "source": [
        "url = \"https://www.amazon.in/New-Apple-iPhone-Mini-128GB/product-reviews/B08L5VN68Y/ref=cm_cr_dp_d_show_all_btm?ie=UTF8&reviewerType=all_reviews\"\n",
        "code = requests.get(url)\n",
        "code"
      ],
      "execution_count": 19,
      "outputs": [
        {
          "output_type": "execute_result",
          "data": {
            "text/plain": [
              "<Response [200]>"
            ]
          },
          "metadata": {},
          "execution_count": 19
        }
      ]
    },
    {
      "cell_type": "code",
      "metadata": {
        "id": "a7ByYLR3lfcw"
      },
      "source": [
        "soup = BeautifulSoup(code.content,'html.parser')\n",
        "print(soup.prettify())"
      ],
      "execution_count": null,
      "outputs": []
    },
    {
      "cell_type": "code",
      "metadata": {
        "colab": {
          "base_uri": "https://localhost:8080/"
        },
        "id": "-vz9-vqfmAot",
        "outputId": "f1d51659-a8c8-4224-ea83-1b3b117f91b7"
      },
      "source": [
        "names = soup.select('span.a-profile-name')[2:]\n",
        "names"
      ],
      "execution_count": 21,
      "outputs": [
        {
          "output_type": "execute_result",
          "data": {
            "text/plain": [
              "[<span class=\"a-profile-name\">RB</span>,\n",
              " <span class=\"a-profile-name\">Aravind</span>,\n",
              " <span class=\"a-profile-name\">Abel philips Johny</span>,\n",
              " <span class=\"a-profile-name\">Rajesh kumar</span>,\n",
              " <span class=\"a-profile-name\">Rohan Chowdhury</span>,\n",
              " <span class=\"a-profile-name\">Divyansh</span>,\n",
              " <span class=\"a-profile-name\">Pradeep Kumar Yadav</span>,\n",
              " <span class=\"a-profile-name\">Hariharasudan Thiyagamoorthi</span>,\n",
              " <span class=\"a-profile-name\">Atoz</span>,\n",
              " <span class=\"a-profile-name\">Swagath Kumar kolige</span>]"
            ]
          },
          "metadata": {},
          "execution_count": 21
        }
      ]
    },
    {
      "cell_type": "code",
      "metadata": {
        "colab": {
          "base_uri": "https://localhost:8080/"
        },
        "id": "ZQ7de7APm_J-",
        "outputId": "1ed4c9a7-94dc-475c-8351-8dbff7a60852"
      },
      "source": [
        "len(names)"
      ],
      "execution_count": 22,
      "outputs": [
        {
          "output_type": "execute_result",
          "data": {
            "text/plain": [
              "10"
            ]
          },
          "metadata": {},
          "execution_count": 22
        }
      ]
    },
    {
      "cell_type": "code",
      "metadata": {
        "colab": {
          "base_uri": "https://localhost:8080/"
        },
        "id": "z6Kc_O_LnZmI",
        "outputId": "fdc5daf0-40fd-4c2f-8f5f-33772391a250"
      },
      "source": [
        "titles = soup.select('a.review-title span')\n",
        "titles"
      ],
      "execution_count": 23,
      "outputs": [
        {
          "output_type": "execute_result",
          "data": {
            "text/plain": [
              "[<span>Battery sucks rest all great</span>,\n",
              " <span>Ideal for what it is</span>,\n",
              " <span>iPhone 12 mini 🥰</span>,\n",
              " <span>Please don’t buy, overheating, no battery life, battery drain in 2 hours</span>,\n",
              " <span>Need a small phone? Care about privacy? Get this.</span>,\n",
              " <span>I LOVE IT!!!</span>,\n",
              " <span>Featured</span>,\n",
              " <span>An unplanned upgrade from iPhone SE (1st Gen) - but totally happy with the upgrade!</span>,\n",
              " <span>Decent product. Not value for money.</span>,\n",
              " <span>Only issue is you do something or not Battery drains so fast.</span>]"
            ]
          },
          "metadata": {},
          "execution_count": 23
        }
      ]
    },
    {
      "cell_type": "code",
      "metadata": {
        "id": "DIVVIRbopS7z",
        "colab": {
          "base_uri": "https://localhost:8080/"
        },
        "outputId": "06289fe1-5243-4734-f2d0-79e85ecff2dd"
      },
      "source": [
        "len(titles)"
      ],
      "execution_count": 24,
      "outputs": [
        {
          "output_type": "execute_result",
          "data": {
            "text/plain": [
              "10"
            ]
          },
          "metadata": {},
          "execution_count": 24
        }
      ]
    },
    {
      "cell_type": "code",
      "metadata": {
        "colab": {
          "base_uri": "https://localhost:8080/"
        },
        "id": "suEmU1g9pUjS",
        "outputId": "a6fb597f-bbbb-4733-a617-eeb511c5bfb6"
      },
      "source": [
        "dates = soup.select('span.review-date')[2:]\n",
        "dates"
      ],
      "execution_count": 25,
      "outputs": [
        {
          "output_type": "execute_result",
          "data": {
            "text/plain": [
              "[<span class=\"a-size-base a-color-secondary review-date\" data-hook=\"review-date\">Reviewed in India 🇮🇳 on 21 November 2022</span>,\n",
              " <span class=\"a-size-base a-color-secondary review-date\" data-hook=\"review-date\">Reviewed in India 🇮🇳 on 4 August 2022</span>,\n",
              " <span class=\"a-size-base a-color-secondary review-date\" data-hook=\"review-date\">Reviewed in India 🇮🇳 on 22 November 2022</span>,\n",
              " <span class=\"a-size-base a-color-secondary review-date\" data-hook=\"review-date\">Reviewed in India 🇮🇳 on 21 September 2022</span>,\n",
              " <span class=\"a-size-base a-color-secondary review-date\" data-hook=\"review-date\">Reviewed in India 🇮🇳 on 1 March 2021</span>,\n",
              " <span class=\"a-size-base a-color-secondary review-date\" data-hook=\"review-date\">Reviewed in India 🇮🇳 on 14 March 2021</span>,\n",
              " <span class=\"a-size-base a-color-secondary review-date\" data-hook=\"review-date\">Reviewed in India 🇮🇳 on 17 October 2022</span>,\n",
              " <span class=\"a-size-base a-color-secondary review-date\" data-hook=\"review-date\">Reviewed in India 🇮🇳 on 13 February 2021</span>,\n",
              " <span class=\"a-size-base a-color-secondary review-date\" data-hook=\"review-date\">Reviewed in India 🇮🇳 on 5 September 2022</span>,\n",
              " <span class=\"a-size-base a-color-secondary review-date\" data-hook=\"review-date\">Reviewed in India 🇮🇳 on 5 August 2022</span>]"
            ]
          },
          "metadata": {},
          "execution_count": 25
        }
      ]
    },
    {
      "cell_type": "code",
      "metadata": {
        "colab": {
          "base_uri": "https://localhost:8080/"
        },
        "id": "aeYgI90FqUtK",
        "outputId": "4208e1e5-0f52-4842-8fa2-72e88fa82481"
      },
      "source": [
        "len(dates)"
      ],
      "execution_count": 26,
      "outputs": [
        {
          "output_type": "execute_result",
          "data": {
            "text/plain": [
              "10"
            ]
          },
          "metadata": {},
          "execution_count": 26
        }
      ]
    },
    {
      "cell_type": "code",
      "metadata": {
        "id": "5jp3bAj2qWCG",
        "colab": {
          "base_uri": "https://localhost:8080/"
        },
        "outputId": "414c6f04-459b-410b-9dbc-8310ccdb4926"
      },
      "source": [
        "stars = soup.select('i.review-rating span.a-icon-alt')[2:]\n",
        "stars"
      ],
      "execution_count": 27,
      "outputs": [
        {
          "output_type": "execute_result",
          "data": {
            "text/plain": [
              "[<span class=\"a-icon-alt\">4.0 out of 5 stars</span>,\n",
              " <span class=\"a-icon-alt\">5.0 out of 5 stars</span>,\n",
              " <span class=\"a-icon-alt\">5.0 out of 5 stars</span>,\n",
              " <span class=\"a-icon-alt\">4.0 out of 5 stars</span>,\n",
              " <span class=\"a-icon-alt\">5.0 out of 5 stars</span>,\n",
              " <span class=\"a-icon-alt\">5.0 out of 5 stars</span>,\n",
              " <span class=\"a-icon-alt\">5.0 out of 5 stars</span>,\n",
              " <span class=\"a-icon-alt\">5.0 out of 5 stars</span>,\n",
              " <span class=\"a-icon-alt\">3.0 out of 5 stars</span>,\n",
              " <span class=\"a-icon-alt\">4.0 out of 5 stars</span>]"
            ]
          },
          "metadata": {},
          "execution_count": 27
        }
      ]
    },
    {
      "cell_type": "code",
      "metadata": {
        "id": "fw-Imgn4rImN",
        "colab": {
          "base_uri": "https://localhost:8080/"
        },
        "outputId": "cb33f87c-60c9-4059-c10c-08166774a077"
      },
      "source": [
        "len(stars)"
      ],
      "execution_count": 28,
      "outputs": [
        {
          "output_type": "execute_result",
          "data": {
            "text/plain": [
              "10"
            ]
          },
          "metadata": {},
          "execution_count": 28
        }
      ]
    },
    {
      "cell_type": "code",
      "metadata": {
        "id": "TN6Oc3gqrMAG",
        "colab": {
          "base_uri": "https://localhost:8080/"
        },
        "outputId": "6a2e9464-8bda-4af4-8d28-90a191112807"
      },
      "source": [
        "reviews = soup.select('span.review-text-content span')\n",
        "reviews"
      ],
      "execution_count": 29,
      "outputs": [
        {
          "output_type": "execute_result",
          "data": {
            "text/plain": [
              "[<span>Battery is just pathetic and  in camera, i dont like its potrait shots</span>,\n",
              " <span>Ever since the first One plus, I'd been moving towards phablet sized phones, consuming more content, holding heavier devices, bending down at work, bed, bathroom, all glued to the large display. I never imagined what it could lead to until I got a slipped disc in my neck this year, requiring a surgery on my spine.<br/><br/>Was initially astonished how I could get this at my age, but the doctor mentioned that this is very typical among his younger patients now - thanks to the way we work and consume entertainment, glued to the phone. My one plus 7 pro had also just given up on the fancy raising camera at the same time. Looking around for a small phone, came across the 12 mini. Being an android person, I had never even known about the 12 or 13 mini when the launched. The price difference between the 12 and 13 mini is too big (15-20k), and went with the 12 mini despite the battery concerns.<br/><br/>In dark mode, with background app refresh off, 4G + wifi, and around 40% brightness (with auto brightness on), I'm easily getting 6+ hours of screen on time with 25% battery left at end of day. Not a gamer - uses are mainly around the social media apps, e commerce, food delivery, cab hailing, maps and chrome browsing. And the occasional camera captures.<br/><br/>Picking up my old phone now feels like a chore - my fingers and shoulders hurt less, and I lose out on nothings compared to the old phone. In fact, a couple of One plus 7 pro updates had made the battery drain even faster (4-5 hrs) than what I'm getting out of iOS.<br/><br/>My only worry is how I'll get to keep the same size going forward, since there's going to be no 14 mini. So long as the phone is your tool, 12 mini is a powerful, tiny, and definitely battery adequate. If you're like me a few months back, when you're plugged into the matrix via your phone - this is not for you.</span>,\n",
              " <span>Nice ❤️</span>,\n",
              " <span>Worst iphone ever</span>,\n",
              " <span>1) If privacy means anything to you, Apple is the answer right now. Google has gone to the path of everything that is wrong with big techs, and it took me 6 months to entirely come out of google ecosystem.<br/><br/>2) Best small phone out there, if android isn’t even an option for point 1, this is the only choice anyway. I waited for the right sized small phone with right specs from apple. It fits perfectly in pocket, in hand, good one hand usage, it’s blocky enough not to slip out of hand.<br/><br/>3) If you’re taking a small phone, most possibly you have a life and phone isn’t your life. The charge will live through the day for “phone like usage”. 5 hours screen on time is more than sufficient. For gaming get a gaming PC or console, for big screen get a big screen TV. If you want all in one device, pay more, get a bigger phone, or get a battery pack maybe? I’m tired of the battery argument, it’s a “phone” !!<br/><br/>4) iOS wasn’t very easy to understand for someone moving from android first time. But it’s not too hard either, about a week I was uncomfortable in situations I had to hurry to do something or get something done, after a month usage I forgot the fact I am still new to this. iOS is intuitive enough, simple for anyone to use.<br/><br/>5) For whatever reason everything in App store is so costly ! Most app doesn’t have any India cost adjustment, and they just convert whatever price they have in USD to INR. So be prepared. If you don’t like ads, get a VPN with ad blocker or any VPN with custom DNS to AdGuard servers.<br/><br/>6) Screen quality is brilliant, it’s vibrant, it’s crisp, it’s very colour accurate, get bright enough indoor and outdoor, under sunlight no issues using.<br/><br/>7) Speakers are pretty good, stereo setup, had very good lows, doesn’t crack at high volume, but guess what, if I use earphones for watching videos - battery life goes way better. For watching movies, online courses, better use a earphone, you won’t realise it has a small battery.<br/><br/>8) It doesn’t come with a charging adapter. I’m still using my pixel 2 xl charger. Charges fast to 80%, then it’s a bit slower - but i guess that’s an expects behaviour.<br/><br/>9) The charging cable seems weirdly stiff, I have read only bad reviews about them so be careful handling charging cable, use it with care, it will last long.<br/><br/>10) Phone cameras has gone very far these days. It’s a very good camera here as well. I’m coming from Pixel 2 XL which had great camera and this one is even better. I don’t think people really need to bother too much about camera quality here. 4K video recording at 60 FPS .. what do you want more !!</span>,\n",
              " <span>Upgraded from iPhone 7. This really is a significant upgrade. I love this size. This is just perfect, you can use it single handedly, easily fits into pockets, reach every corner of the screen easily.<br/>I was waiting for this size for so long and finally, after 2 months of buying, I’m writing a review. Just go for it if you want a small phone. In reality, it’s not even that small, almost the size of iPhone 7, with full edge to edge display.<br/><br/>Feel: Ever used an iPhone 5 (or 4, 5s, SE)? Remember how boxy it was and how good it felt in your hand, with all those edges? Same with this phone. It feels so good to hold in hand with a glass body, it cannot be expressed in words.<br/><br/>Display: Phenomenal! OLED display with HDR stuff feels like on a different level. Darks feel dark, and not grays.<br/><br/>Sound: Stereo speakers, which really are loud and clear. iPhone 7 also had stereo speakers but on these, there’s a noticeable difference in loudness, and sound quality.<br/><br/>Battery: Many people are criticizing battery, but I’m not a heavy user, most importantly I’ve been an iPhone user so battery life is decent enough. Much better than iPhone 7, obviously. Easily lasts more than a day. And with a 20w charger, it charges pretty fast too.<br/><br/>Security: Upgrading from TouchID to FaceID was a nice experience. I’m already in love with FaceID. It works every single time (except when you’re wearing masks, you have to put it down a little bit to let it recognize your face).<br/><br/>Camera: I don’t need to describe this. Do I? But let me tell you the night mode is superb!<br/><br/>Accessories: You only get a Type-C to lightening port cable, and a single apple sticker. That’s it.<br/><br/>eSIM functionality works great, WiFi reception is good, call quality is awesome, as you’d expect. Long story cut short, everything is great when compared with iPhone 7 (which still was working awesome, except storage, and battery after 3 years). The only thing I miss is 3D Touch, and home button, lol.<br/><br/>To conclude, it’s a great buy. I bought 128GB version in black color. Hope it’s gonna last for a couple of years.<br/>Please hit helpful, if you found it helpful.</span>,\n",
              " <span>All good...🤠🤠🤠🤠🤠🤠</span>,\n",
              " <span>It has been more than 3 weeks since I got the new iPhone 12 mini.<br/><br/>I have been an Apple customer since 2013. The first one was an iPhone 5. I had been using a 1st Gen iPhone SE since mid 2017. Even today the iPhone SE is a beast for regular usage. I had started loving the new iPhone 12 mini since its launch - as I like the flat edges and the small size.<br/><br/>However, I had no plans to upgrade now. I usually wait until the new technologies (the full screen OLED display for example) to become stable and mature enough. I also wait until the model I like is a year or more old, so that the price is much lower than the launch price. But, my iPhone SE which had survived several falls earlier, suffered another fall and this time the touch stopped responding. The screen replacement cost was almost as much as the price I had paid for that phone.<br/><br/>I got a decent offer on the purchase of the new iPhone 12 mini on Amazon. As expected Amazon delivered a factory sealed phone, well packed, the very next day. Setting the new phone up was very easy being an Apple Customer already. I just had to upgrade the OS and restore from my iCloud Backup.<br/><br/>I like the white color body and the glass back. Having used to the bezels of the iPhone SE, the bezel less screen is the most I like from my upgrade. The 12 mini is slightly bigger than the 1st Gen SE but the different in the viewable area is so amazing. I also like the OLED screen so much.<br/><br/>Battery has not been a problem for me as I do not play any games. So, even 24 hours after a full charge, I am left with about 30%. I have not experienced any heating during charging or during normal use.<br/><br/>The 4G speeds are noticeably increased compared to the 1st Gen SE. The WiFi speeds have a big jump. Everything downloads so fast. I do have a router at home that supports MIMO and I connect on the 5GHz channel.<br/><br/>I have been mostly on the WiFi so far. I don't know how the battery life will be when I am out using 4G data for 8-12 hours a day.<br/><br/>Overall I am happy with my purchase so far!</span>,\n",
              " <span>Disappointed. Have been using apple since iphone 5 the quality of the camera is very decent would rather choose samsung or pixel over iphone although video quality is excellent. realistic photo only iphone 10 use to click gonna miss it.<br/><br/>Pros<br/>Video quality<br/>Small in size<br/>Ecosystem is great<br/><br/>Cons<br/>Overpriced for india<br/>Camera quality is decent<br/>Battery doesnt last that long<br/>Software updates are sometimes buggy<br/>Icloud+ upgrade reminder is seriously annoying<br/><br/>FYI: The iphone 13 series camera is one of the worst in the iphone lineup they now look like cheap poco phones with over saturation and excess sharpness.<br/><br/>Suggestion:<br/>Go with Samsung S22 ultra or pixel if you dont use videography a lot ill assure you wont be disappointed.</span>,\n",
              " <span>Battery life is poor, performance super.</span>]"
            ]
          },
          "metadata": {},
          "execution_count": 29
        }
      ]
    },
    {
      "cell_type": "code",
      "metadata": {
        "colab": {
          "base_uri": "https://localhost:8080/"
        },
        "id": "mJgeKf_9suLX",
        "outputId": "58ee10a6-5cbd-4193-dd75-cea630c19015"
      },
      "source": [
        "len(reviews)"
      ],
      "execution_count": 30,
      "outputs": [
        {
          "output_type": "execute_result",
          "data": {
            "text/plain": [
              "10"
            ]
          },
          "metadata": {},
          "execution_count": 30
        }
      ]
    },
    {
      "cell_type": "code",
      "metadata": {
        "colab": {
          "base_uri": "https://localhost:8080/",
          "height": 35
        },
        "id": "eVvM9M7RwRvw",
        "outputId": "62492b54-f53e-4e65-dae0-ae0e35a038b3"
      },
      "source": [
        "names[0].get_text()"
      ],
      "execution_count": 31,
      "outputs": [
        {
          "output_type": "execute_result",
          "data": {
            "text/plain": [
              "'RB'"
            ],
            "application/vnd.google.colaboratory.intrinsic+json": {
              "type": "string"
            }
          },
          "metadata": {},
          "execution_count": 31
        }
      ]
    },
    {
      "cell_type": "code",
      "metadata": {
        "id": "ss82acZWs0MO"
      },
      "source": [
        "cust_name = []\n",
        "rev_date = []\n",
        "ratings = []\n",
        "rev_title = []\n",
        "rev_content = []\n",
        "for i in range(len(names)):\n",
        "  cust_name.append(names[i].get_text())\n",
        "  rev_date.append(dates[i].get_text().replace(\"Reviewed in India on \",\"\"))\n",
        "  ratings.append(stars[i].get_text())\n",
        "  rev_title.append(titles[i].get_text())\n",
        "  rev_content.append(reviews[i].get_text().strip(\"\\n \"))"
      ],
      "execution_count": 32,
      "outputs": []
    },
    {
      "cell_type": "code",
      "metadata": {
        "id": "iFnzO03KwgHz",
        "colab": {
          "base_uri": "https://localhost:8080/"
        },
        "outputId": "747221ce-4bc6-424c-80a6-8785b734891b"
      },
      "source": [
        "rev_content"
      ],
      "execution_count": 33,
      "outputs": [
        {
          "output_type": "execute_result",
          "data": {
            "text/plain": [
              "['Battery is just pathetic and  in camera, i dont like its potrait shots',\n",
              " \"Ever since the first One plus, I'd been moving towards phablet sized phones, consuming more content, holding heavier devices, bending down at work, bed, bathroom, all glued to the large display. I never imagined what it could lead to until I got a slipped disc in my neck this year, requiring a surgery on my spine.Was initially astonished how I could get this at my age, but the doctor mentioned that this is very typical among his younger patients now - thanks to the way we work and consume entertainment, glued to the phone. My one plus 7 pro had also just given up on the fancy raising camera at the same time. Looking around for a small phone, came across the 12 mini. Being an android person, I had never even known about the 12 or 13 mini when the launched. The price difference between the 12 and 13 mini is too big (15-20k), and went with the 12 mini despite the battery concerns.In dark mode, with background app refresh off, 4G + wifi, and around 40% brightness (with auto brightness on), I'm easily getting 6+ hours of screen on time with 25% battery left at end of day. Not a gamer - uses are mainly around the social media apps, e commerce, food delivery, cab hailing, maps and chrome browsing. And the occasional camera captures.Picking up my old phone now feels like a chore - my fingers and shoulders hurt less, and I lose out on nothings compared to the old phone. In fact, a couple of One plus 7 pro updates had made the battery drain even faster (4-5 hrs) than what I'm getting out of iOS.My only worry is how I'll get to keep the same size going forward, since there's going to be no 14 mini. So long as the phone is your tool, 12 mini is a powerful, tiny, and definitely battery adequate. If you're like me a few months back, when you're plugged into the matrix via your phone - this is not for you.\",\n",
              " 'Nice ❤️',\n",
              " 'Worst iphone ever',\n",
              " '1) If privacy means anything to you, Apple is the answer right now. Google has gone to the path of everything that is wrong with big techs, and it took me 6 months to entirely come out of google ecosystem.2) Best small phone out there, if android isn’t even an option for point 1, this is the only choice anyway. I waited for the right sized small phone with right specs from apple. It fits perfectly in pocket, in hand, good one hand usage, it’s blocky enough not to slip out of hand.3) If you’re taking a small phone, most possibly you have a life and phone isn’t your life. The charge will live through the day for “phone like usage”. 5 hours screen on time is more than sufficient. For gaming get a gaming PC or console, for big screen get a big screen TV. If you want all in one device, pay more, get a bigger phone, or get a battery pack maybe? I’m tired of the battery argument, it’s a “phone” !!4) iOS wasn’t very easy to understand for someone moving from android first time. But it’s not too hard either, about a week I was uncomfortable in situations I had to hurry to do something or get something done, after a month usage I forgot the fact I am still new to this. iOS is intuitive enough, simple for anyone to use.5) For whatever reason everything in App store is so costly ! Most app doesn’t have any India cost adjustment, and they just convert whatever price they have in USD to INR. So be prepared. If you don’t like ads, get a VPN with ad blocker or any VPN with custom DNS to AdGuard servers.6) Screen quality is brilliant, it’s vibrant, it’s crisp, it’s very colour accurate, get bright enough indoor and outdoor, under sunlight no issues using.7) Speakers are pretty good, stereo setup, had very good lows, doesn’t crack at high volume, but guess what, if I use earphones for watching videos - battery life goes way better. For watching movies, online courses, better use a earphone, you won’t realise it has a small battery.8) It doesn’t come with a charging adapter. I’m still using my pixel 2 xl charger. Charges fast to 80%, then it’s a bit slower - but i guess that’s an expects behaviour.9) The charging cable seems weirdly stiff, I have read only bad reviews about them so be careful handling charging cable, use it with care, it will last long.10) Phone cameras has gone very far these days. It’s a very good camera here as well. I’m coming from Pixel 2 XL which had great camera and this one is even better. I don’t think people really need to bother too much about camera quality here. 4K video recording at 60 FPS .. what do you want more !!',\n",
              " 'Upgraded from iPhone 7. This really is a significant upgrade. I love this size. This is just perfect, you can use it single handedly, easily fits into pockets, reach every corner of the screen easily.I was waiting for this size for so long and finally, after 2 months of buying, I’m writing a review. Just go for it if you want a small phone. In reality, it’s not even that small, almost the size of iPhone 7, with full edge to edge display.Feel: Ever used an iPhone 5 (or 4, 5s, SE)? Remember how boxy it was and how good it felt in your hand, with all those edges? Same with this phone. It feels so good to hold in hand with a glass body, it cannot be expressed in words.Display: Phenomenal! OLED display with HDR stuff feels like on a different level. Darks feel dark, and not grays.Sound: Stereo speakers, which really are loud and clear. iPhone 7 also had stereo speakers but on these, there’s a noticeable difference in loudness, and sound quality.Battery: Many people are criticizing battery, but I’m not a heavy user, most importantly I’ve been an iPhone user so battery life is decent enough. Much better than iPhone 7, obviously. Easily lasts more than a day. And with a 20w charger, it charges pretty fast too.Security: Upgrading from TouchID to FaceID was a nice experience. I’m already in love with FaceID. It works every single time (except when you’re wearing masks, you have to put it down a little bit to let it recognize your face).Camera: I don’t need to describe this. Do I? But let me tell you the night mode is superb!Accessories: You only get a Type-C to lightening port cable, and a single apple sticker. That’s it.eSIM functionality works great, WiFi reception is good, call quality is awesome, as you’d expect. Long story cut short, everything is great when compared with iPhone 7 (which still was working awesome, except storage, and battery after 3 years). The only thing I miss is 3D Touch, and home button, lol.To conclude, it’s a great buy. I bought 128GB version in black color. Hope it’s gonna last for a couple of years.Please hit helpful, if you found it helpful.',\n",
              " 'All good...🤠🤠🤠🤠🤠🤠',\n",
              " \"It has been more than 3 weeks since I got the new iPhone 12 mini.I have been an Apple customer since 2013. The first one was an iPhone 5. I had been using a 1st Gen iPhone SE since mid 2017. Even today the iPhone SE is a beast for regular usage. I had started loving the new iPhone 12 mini since its launch - as I like the flat edges and the small size.However, I had no plans to upgrade now. I usually wait until the new technologies (the full screen OLED display for example) to become stable and mature enough. I also wait until the model I like is a year or more old, so that the price is much lower than the launch price. But, my iPhone SE which had survived several falls earlier, suffered another fall and this time the touch stopped responding. The screen replacement cost was almost as much as the price I had paid for that phone.I got a decent offer on the purchase of the new iPhone 12 mini on Amazon. As expected Amazon delivered a factory sealed phone, well packed, the very next day. Setting the new phone up was very easy being an Apple Customer already. I just had to upgrade the OS and restore from my iCloud Backup.I like the white color body and the glass back. Having used to the bezels of the iPhone SE, the bezel less screen is the most I like from my upgrade. The 12 mini is slightly bigger than the 1st Gen SE but the different in the viewable area is so amazing. I also like the OLED screen so much.Battery has not been a problem for me as I do not play any games. So, even 24 hours after a full charge, I am left with about 30%. I have not experienced any heating during charging or during normal use.The 4G speeds are noticeably increased compared to the 1st Gen SE. The WiFi speeds have a big jump. Everything downloads so fast. I do have a router at home that supports MIMO and I connect on the 5GHz channel.I have been mostly on the WiFi so far. I don't know how the battery life will be when I am out using 4G data for 8-12 hours a day.Overall I am happy with my purchase so far!\",\n",
              " 'Disappointed. Have been using apple since iphone 5 the quality of the camera is very decent would rather choose samsung or pixel over iphone although video quality is excellent. realistic photo only iphone 10 use to click gonna miss it.ProsVideo qualitySmall in sizeEcosystem is greatConsOverpriced for indiaCamera quality is decentBattery doesnt last that longSoftware updates are sometimes buggyIcloud+ upgrade reminder is seriously annoyingFYI: The iphone 13 series camera is one of the worst in the iphone lineup they now look like cheap poco phones with over saturation and excess sharpness.Suggestion:Go with Samsung S22 ultra or pixel if you dont use videography a lot ill assure you wont be disappointed.',\n",
              " 'Battery life is poor, performance super.']"
            ]
          },
          "metadata": {},
          "execution_count": 33
        }
      ]
    },
    {
      "cell_type": "code",
      "metadata": {
        "id": "CSekc-3Awixo"
      },
      "source": [
        "import pandas as pd"
      ],
      "execution_count": 34,
      "outputs": []
    },
    {
      "cell_type": "code",
      "metadata": {
        "colab": {
          "base_uri": "https://localhost:8080/",
          "height": 580
        },
        "id": "8ircq7R3yVgg",
        "outputId": "558437a2-917f-444d-81c2-d4b4ba94eb9b"
      },
      "source": [
        "df = pd.DataFrame()\n",
        "df['Customer Name'] = cust_name\n",
        "df['Date'] = rev_date\n",
        "df['Ratings'] = ratings\n",
        "df['Review Title'] = rev_title\n",
        "df['Reviews'] = rev_content\n",
        "df"
      ],
      "execution_count": 35,
      "outputs": [
        {
          "output_type": "execute_result",
          "data": {
            "text/plain": [
              "                  Customer Name                                       Date  \\\n",
              "0                            RB   Reviewed in India 🇮🇳 on 21 November 2022   \n",
              "1                       Aravind      Reviewed in India 🇮🇳 on 4 August 2022   \n",
              "2            Abel philips Johny   Reviewed in India 🇮🇳 on 22 November 2022   \n",
              "3                  Rajesh kumar  Reviewed in India 🇮🇳 on 21 September 2022   \n",
              "4               Rohan Chowdhury       Reviewed in India 🇮🇳 on 1 March 2021   \n",
              "5                      Divyansh      Reviewed in India 🇮🇳 on 14 March 2021   \n",
              "6           Pradeep Kumar Yadav    Reviewed in India 🇮🇳 on 17 October 2022   \n",
              "7  Hariharasudan Thiyagamoorthi   Reviewed in India 🇮🇳 on 13 February 2021   \n",
              "8                          Atoz   Reviewed in India 🇮🇳 on 5 September 2022   \n",
              "9          Swagath Kumar kolige      Reviewed in India 🇮🇳 on 5 August 2022   \n",
              "\n",
              "              Ratings                                       Review Title  \\\n",
              "0  4.0 out of 5 stars                       Battery sucks rest all great   \n",
              "1  5.0 out of 5 stars                               Ideal for what it is   \n",
              "2  5.0 out of 5 stars                                   iPhone 12 mini 🥰   \n",
              "3  4.0 out of 5 stars  Please don’t buy, overheating, no battery life...   \n",
              "4  5.0 out of 5 stars  Need a small phone? Care about privacy? Get this.   \n",
              "5  5.0 out of 5 stars                                       I LOVE IT!!!   \n",
              "6  5.0 out of 5 stars                                           Featured   \n",
              "7  5.0 out of 5 stars  An unplanned upgrade from iPhone SE (1st Gen) ...   \n",
              "8  3.0 out of 5 stars               Decent product. Not value for money.   \n",
              "9  4.0 out of 5 stars  Only issue is you do something or not Battery ...   \n",
              "\n",
              "                                             Reviews  \n",
              "0  Battery is just pathetic and  in camera, i don...  \n",
              "1  Ever since the first One plus, I'd been moving...  \n",
              "2                                            Nice ❤️  \n",
              "3                                  Worst iphone ever  \n",
              "4  1) If privacy means anything to you, Apple is ...  \n",
              "5  Upgraded from iPhone 7. This really is a signi...  \n",
              "6                                  All good...🤠🤠🤠🤠🤠🤠  \n",
              "7  It has been more than 3 weeks since I got the ...  \n",
              "8  Disappointed. Have been using apple since ipho...  \n",
              "9           Battery life is poor, performance super.  "
            ],
            "text/html": [
              "\n",
              "  <div id=\"df-c9f556c6-c626-451e-aca2-b2ef6cd3a662\">\n",
              "    <div class=\"colab-df-container\">\n",
              "      <div>\n",
              "<style scoped>\n",
              "    .dataframe tbody tr th:only-of-type {\n",
              "        vertical-align: middle;\n",
              "    }\n",
              "\n",
              "    .dataframe tbody tr th {\n",
              "        vertical-align: top;\n",
              "    }\n",
              "\n",
              "    .dataframe thead th {\n",
              "        text-align: right;\n",
              "    }\n",
              "</style>\n",
              "<table border=\"1\" class=\"dataframe\">\n",
              "  <thead>\n",
              "    <tr style=\"text-align: right;\">\n",
              "      <th></th>\n",
              "      <th>Customer Name</th>\n",
              "      <th>Date</th>\n",
              "      <th>Ratings</th>\n",
              "      <th>Review Title</th>\n",
              "      <th>Reviews</th>\n",
              "    </tr>\n",
              "  </thead>\n",
              "  <tbody>\n",
              "    <tr>\n",
              "      <th>0</th>\n",
              "      <td>RB</td>\n",
              "      <td>Reviewed in India 🇮🇳 on 21 November 2022</td>\n",
              "      <td>4.0 out of 5 stars</td>\n",
              "      <td>Battery sucks rest all great</td>\n",
              "      <td>Battery is just pathetic and  in camera, i don...</td>\n",
              "    </tr>\n",
              "    <tr>\n",
              "      <th>1</th>\n",
              "      <td>Aravind</td>\n",
              "      <td>Reviewed in India 🇮🇳 on 4 August 2022</td>\n",
              "      <td>5.0 out of 5 stars</td>\n",
              "      <td>Ideal for what it is</td>\n",
              "      <td>Ever since the first One plus, I'd been moving...</td>\n",
              "    </tr>\n",
              "    <tr>\n",
              "      <th>2</th>\n",
              "      <td>Abel philips Johny</td>\n",
              "      <td>Reviewed in India 🇮🇳 on 22 November 2022</td>\n",
              "      <td>5.0 out of 5 stars</td>\n",
              "      <td>iPhone 12 mini 🥰</td>\n",
              "      <td>Nice ❤️</td>\n",
              "    </tr>\n",
              "    <tr>\n",
              "      <th>3</th>\n",
              "      <td>Rajesh kumar</td>\n",
              "      <td>Reviewed in India 🇮🇳 on 21 September 2022</td>\n",
              "      <td>4.0 out of 5 stars</td>\n",
              "      <td>Please don’t buy, overheating, no battery life...</td>\n",
              "      <td>Worst iphone ever</td>\n",
              "    </tr>\n",
              "    <tr>\n",
              "      <th>4</th>\n",
              "      <td>Rohan Chowdhury</td>\n",
              "      <td>Reviewed in India 🇮🇳 on 1 March 2021</td>\n",
              "      <td>5.0 out of 5 stars</td>\n",
              "      <td>Need a small phone? Care about privacy? Get this.</td>\n",
              "      <td>1) If privacy means anything to you, Apple is ...</td>\n",
              "    </tr>\n",
              "    <tr>\n",
              "      <th>5</th>\n",
              "      <td>Divyansh</td>\n",
              "      <td>Reviewed in India 🇮🇳 on 14 March 2021</td>\n",
              "      <td>5.0 out of 5 stars</td>\n",
              "      <td>I LOVE IT!!!</td>\n",
              "      <td>Upgraded from iPhone 7. This really is a signi...</td>\n",
              "    </tr>\n",
              "    <tr>\n",
              "      <th>6</th>\n",
              "      <td>Pradeep Kumar Yadav</td>\n",
              "      <td>Reviewed in India 🇮🇳 on 17 October 2022</td>\n",
              "      <td>5.0 out of 5 stars</td>\n",
              "      <td>Featured</td>\n",
              "      <td>All good...🤠🤠🤠🤠🤠🤠</td>\n",
              "    </tr>\n",
              "    <tr>\n",
              "      <th>7</th>\n",
              "      <td>Hariharasudan Thiyagamoorthi</td>\n",
              "      <td>Reviewed in India 🇮🇳 on 13 February 2021</td>\n",
              "      <td>5.0 out of 5 stars</td>\n",
              "      <td>An unplanned upgrade from iPhone SE (1st Gen) ...</td>\n",
              "      <td>It has been more than 3 weeks since I got the ...</td>\n",
              "    </tr>\n",
              "    <tr>\n",
              "      <th>8</th>\n",
              "      <td>Atoz</td>\n",
              "      <td>Reviewed in India 🇮🇳 on 5 September 2022</td>\n",
              "      <td>3.0 out of 5 stars</td>\n",
              "      <td>Decent product. Not value for money.</td>\n",
              "      <td>Disappointed. Have been using apple since ipho...</td>\n",
              "    </tr>\n",
              "    <tr>\n",
              "      <th>9</th>\n",
              "      <td>Swagath Kumar kolige</td>\n",
              "      <td>Reviewed in India 🇮🇳 on 5 August 2022</td>\n",
              "      <td>4.0 out of 5 stars</td>\n",
              "      <td>Only issue is you do something or not Battery ...</td>\n",
              "      <td>Battery life is poor, performance super.</td>\n",
              "    </tr>\n",
              "  </tbody>\n",
              "</table>\n",
              "</div>\n",
              "      <button class=\"colab-df-convert\" onclick=\"convertToInteractive('df-c9f556c6-c626-451e-aca2-b2ef6cd3a662')\"\n",
              "              title=\"Convert this dataframe to an interactive table.\"\n",
              "              style=\"display:none;\">\n",
              "        \n",
              "  <svg xmlns=\"http://www.w3.org/2000/svg\" height=\"24px\"viewBox=\"0 0 24 24\"\n",
              "       width=\"24px\">\n",
              "    <path d=\"M0 0h24v24H0V0z\" fill=\"none\"/>\n",
              "    <path d=\"M18.56 5.44l.94 2.06.94-2.06 2.06-.94-2.06-.94-.94-2.06-.94 2.06-2.06.94zm-11 1L8.5 8.5l.94-2.06 2.06-.94-2.06-.94L8.5 2.5l-.94 2.06-2.06.94zm10 10l.94 2.06.94-2.06 2.06-.94-2.06-.94-.94-2.06-.94 2.06-2.06.94z\"/><path d=\"M17.41 7.96l-1.37-1.37c-.4-.4-.92-.59-1.43-.59-.52 0-1.04.2-1.43.59L10.3 9.45l-7.72 7.72c-.78.78-.78 2.05 0 2.83L4 21.41c.39.39.9.59 1.41.59.51 0 1.02-.2 1.41-.59l7.78-7.78 2.81-2.81c.8-.78.8-2.07 0-2.86zM5.41 20L4 18.59l7.72-7.72 1.47 1.35L5.41 20z\"/>\n",
              "  </svg>\n",
              "      </button>\n",
              "      \n",
              "  <style>\n",
              "    .colab-df-container {\n",
              "      display:flex;\n",
              "      flex-wrap:wrap;\n",
              "      gap: 12px;\n",
              "    }\n",
              "\n",
              "    .colab-df-convert {\n",
              "      background-color: #E8F0FE;\n",
              "      border: none;\n",
              "      border-radius: 50%;\n",
              "      cursor: pointer;\n",
              "      display: none;\n",
              "      fill: #1967D2;\n",
              "      height: 32px;\n",
              "      padding: 0 0 0 0;\n",
              "      width: 32px;\n",
              "    }\n",
              "\n",
              "    .colab-df-convert:hover {\n",
              "      background-color: #E2EBFA;\n",
              "      box-shadow: 0px 1px 2px rgba(60, 64, 67, 0.3), 0px 1px 3px 1px rgba(60, 64, 67, 0.15);\n",
              "      fill: #174EA6;\n",
              "    }\n",
              "\n",
              "    [theme=dark] .colab-df-convert {\n",
              "      background-color: #3B4455;\n",
              "      fill: #D2E3FC;\n",
              "    }\n",
              "\n",
              "    [theme=dark] .colab-df-convert:hover {\n",
              "      background-color: #434B5C;\n",
              "      box-shadow: 0px 1px 3px 1px rgba(0, 0, 0, 0.15);\n",
              "      filter: drop-shadow(0px 1px 2px rgba(0, 0, 0, 0.3));\n",
              "      fill: #FFFFFF;\n",
              "    }\n",
              "  </style>\n",
              "\n",
              "      <script>\n",
              "        const buttonEl =\n",
              "          document.querySelector('#df-c9f556c6-c626-451e-aca2-b2ef6cd3a662 button.colab-df-convert');\n",
              "        buttonEl.style.display =\n",
              "          google.colab.kernel.accessAllowed ? 'block' : 'none';\n",
              "\n",
              "        async function convertToInteractive(key) {\n",
              "          const element = document.querySelector('#df-c9f556c6-c626-451e-aca2-b2ef6cd3a662');\n",
              "          const dataTable =\n",
              "            await google.colab.kernel.invokeFunction('convertToInteractive',\n",
              "                                                     [key], {});\n",
              "          if (!dataTable) return;\n",
              "\n",
              "          const docLinkHtml = 'Like what you see? Visit the ' +\n",
              "            '<a target=\"_blank\" href=https://colab.research.google.com/notebooks/data_table.ipynb>data table notebook</a>'\n",
              "            + ' to learn more about interactive tables.';\n",
              "          element.innerHTML = '';\n",
              "          dataTable['output_type'] = 'display_data';\n",
              "          await google.colab.output.renderOutput(dataTable, element);\n",
              "          const docLink = document.createElement('div');\n",
              "          docLink.innerHTML = docLinkHtml;\n",
              "          element.appendChild(docLink);\n",
              "        }\n",
              "      </script>\n",
              "    </div>\n",
              "  </div>\n",
              "  "
            ]
          },
          "metadata": {},
          "execution_count": 35
        }
      ]
    },
    {
      "cell_type": "code",
      "metadata": {
        "id": "KLdJfztzyZMA"
      },
      "source": [
        "df.to_csv(\"amazon.csv\")"
      ],
      "execution_count": 36,
      "outputs": []
    },
    {
      "cell_type": "code",
      "metadata": {
        "id": "gYcecvWbzWQc"
      },
      "source": [
        "cust_name = []\n",
        "rev_date = []\n",
        "ratings = []\n",
        "rev_title = []\n",
        "rev_content = []\n",
        "for page in range(1,35):\n",
        "  url = \"https://www.amazon.in/New-Apple-iPhone-Mini-128GB/product-reviews/B08L5VN68Y/ref=cm_cr_arp_d_paging_btm_next_2?ie=UTF8&reviewerType=all_reviews&pageNumber=\"+str(page)\n",
        "  code = requests.get(url)\n",
        "  if str(code) == \"<Response [200]>\":\n",
        "    soup = BeautifulSoup(code.content,'html.parser')\n",
        "    names = soup.select('span.a-profile-name')[2:]\n",
        "    titles = soup.select('a.review-title span')\n",
        "    dates = soup.select('span.review-date')[2:]\n",
        "    stars = soup.select('i.review-rating span.a-icon-alt')[2:]\n",
        "    reviews = soup.select('span.review-text-content span')\n",
        "    for i in range(len(names)):\n",
        "      cust_name.append(names[i].get_text())\n",
        "      rev_date.append(dates[i].get_text().replace(\"Reviewed in India on \",\"\"))\n",
        "      ratings.append(stars[i].get_text())\n",
        "      rev_title.append(titles[i].get_text())\n",
        "      rev_content.append(reviews[i].get_text().strip(\"\\n \"))"
      ],
      "execution_count": 37,
      "outputs": []
    },
    {
      "cell_type": "code",
      "metadata": {
        "id": "ufLEK3Oi36y-",
        "colab": {
          "base_uri": "https://localhost:8080/"
        },
        "outputId": "94b26e8d-977d-4cbe-9701-5e35ee76867c"
      },
      "source": [
        "str(code) == \"<Response [200]>\""
      ],
      "execution_count": 38,
      "outputs": [
        {
          "output_type": "execute_result",
          "data": {
            "text/plain": [
              "True"
            ]
          },
          "metadata": {},
          "execution_count": 38
        }
      ]
    },
    {
      "cell_type": "code",
      "metadata": {
        "colab": {
          "base_uri": "https://localhost:8080/",
          "height": 641
        },
        "id": "rVgyQHvf3b3x",
        "outputId": "dbeb42ef-80a1-4a9f-ffb4-65a6430aa245"
      },
      "source": [
        "df = pd.DataFrame()\n",
        "df['Customer Name'] = cust_name\n",
        "df['Date'] = rev_date\n",
        "df['Ratings'] = ratings\n",
        "df['Review Title'] = rev_title\n",
        "df['Reviews'] = rev_content\n",
        "df"
      ],
      "execution_count": 39,
      "outputs": [
        {
          "output_type": "execute_result",
          "data": {
            "text/plain": [
              "       Customer Name                                       Date  \\\n",
              "0          Siddharth        Reviewed in India 🇮🇳 on 2 July 2021   \n",
              "1    Amazon Customer        Reviewed in India 🇮🇳 on 6 July 2022   \n",
              "2           vinay k.        Reviewed in India 🇮🇳 on 8 June 2021   \n",
              "3        Sawal Kalra         Reviewed in India 🇮🇳 on 4 May 2021   \n",
              "4       Arnab Mondal     Reviewed in India 🇮🇳 on 28 August 2022   \n",
              "..               ...                                        ...   \n",
              "155  Amazon Customer  Reviewed in India 🇮🇳 on 10 September 2021   \n",
              "156           Ashwin        Reviewed in India 🇮🇳 on 2 July 2021   \n",
              "157            Fayaz        Reviewed in India 🇮🇳 on 21 May 2021   \n",
              "158          vinutha      Reviewed in India 🇮🇳 on 11 April 2021   \n",
              "159       Pathania G      Reviewed in India 🇮🇳 on 10 March 2021   \n",
              "\n",
              "                Ratings                                       Review Title  \\\n",
              "0    4.0 out of 5 stars  Felt current on phone body while charging, poo...   \n",
              "1    5.0 out of 5 stars                            Excellent except camera   \n",
              "2    4.0 out of 5 stars                                               good   \n",
              "3    4.0 out of 5 stars                                    The mighty mini   \n",
              "4    5.0 out of 5 stars                                      5 star mobile   \n",
              "..                  ...                                                ...   \n",
              "155  5.0 out of 5 stars  Product just sells by its brand . Very powerfu...   \n",
              "156  5.0 out of 5 stars                Best iPhone model to go for in 2021   \n",
              "157  5.0 out of 5 stars                                         Superb!!!!   \n",
              "158  3.0 out of 5 stars  Heating issues and Less Battery backup. Can't ...   \n",
              "159  5.0 out of 5 stars                               Smaller the better !   \n",
              "\n",
              "                                               Reviews  \n",
              "0    Well the delivery was super fast, 5 stars for ...  \n",
              "1    Writing this review after using for more than ...  \n",
              "2    Overall good product. after installing airtel ...  \n",
              "3    Did the device meet my expectations? I guess a...  \n",
              "4    iPhone is iPhone bro…but yes the seller send a...  \n",
              "..                                                 ...  \n",
              "155          Best part is its very handy and powerful.  \n",
              "156  The size of this model is perfect, and has pow...  \n",
              "157  Such an amazing product!!!!.very compact and h...  \n",
              "158  It has heating issues and battery backup is le...  \n",
              "159  Like the size finally an I phone I can hold in...  \n",
              "\n",
              "[160 rows x 5 columns]"
            ],
            "text/html": [
              "\n",
              "  <div id=\"df-a6bf0754-b08a-41ec-9fec-ecdaf2fe451e\">\n",
              "    <div class=\"colab-df-container\">\n",
              "      <div>\n",
              "<style scoped>\n",
              "    .dataframe tbody tr th:only-of-type {\n",
              "        vertical-align: middle;\n",
              "    }\n",
              "\n",
              "    .dataframe tbody tr th {\n",
              "        vertical-align: top;\n",
              "    }\n",
              "\n",
              "    .dataframe thead th {\n",
              "        text-align: right;\n",
              "    }\n",
              "</style>\n",
              "<table border=\"1\" class=\"dataframe\">\n",
              "  <thead>\n",
              "    <tr style=\"text-align: right;\">\n",
              "      <th></th>\n",
              "      <th>Customer Name</th>\n",
              "      <th>Date</th>\n",
              "      <th>Ratings</th>\n",
              "      <th>Review Title</th>\n",
              "      <th>Reviews</th>\n",
              "    </tr>\n",
              "  </thead>\n",
              "  <tbody>\n",
              "    <tr>\n",
              "      <th>0</th>\n",
              "      <td>Siddharth</td>\n",
              "      <td>Reviewed in India 🇮🇳 on 2 July 2021</td>\n",
              "      <td>4.0 out of 5 stars</td>\n",
              "      <td>Felt current on phone body while charging, poo...</td>\n",
              "      <td>Well the delivery was super fast, 5 stars for ...</td>\n",
              "    </tr>\n",
              "    <tr>\n",
              "      <th>1</th>\n",
              "      <td>Amazon Customer</td>\n",
              "      <td>Reviewed in India 🇮🇳 on 6 July 2022</td>\n",
              "      <td>5.0 out of 5 stars</td>\n",
              "      <td>Excellent except camera</td>\n",
              "      <td>Writing this review after using for more than ...</td>\n",
              "    </tr>\n",
              "    <tr>\n",
              "      <th>2</th>\n",
              "      <td>vinay k.</td>\n",
              "      <td>Reviewed in India 🇮🇳 on 8 June 2021</td>\n",
              "      <td>4.0 out of 5 stars</td>\n",
              "      <td>good</td>\n",
              "      <td>Overall good product. after installing airtel ...</td>\n",
              "    </tr>\n",
              "    <tr>\n",
              "      <th>3</th>\n",
              "      <td>Sawal Kalra</td>\n",
              "      <td>Reviewed in India 🇮🇳 on 4 May 2021</td>\n",
              "      <td>4.0 out of 5 stars</td>\n",
              "      <td>The mighty mini</td>\n",
              "      <td>Did the device meet my expectations? I guess a...</td>\n",
              "    </tr>\n",
              "    <tr>\n",
              "      <th>4</th>\n",
              "      <td>Arnab Mondal</td>\n",
              "      <td>Reviewed in India 🇮🇳 on 28 August 2022</td>\n",
              "      <td>5.0 out of 5 stars</td>\n",
              "      <td>5 star mobile</td>\n",
              "      <td>iPhone is iPhone bro…but yes the seller send a...</td>\n",
              "    </tr>\n",
              "    <tr>\n",
              "      <th>...</th>\n",
              "      <td>...</td>\n",
              "      <td>...</td>\n",
              "      <td>...</td>\n",
              "      <td>...</td>\n",
              "      <td>...</td>\n",
              "    </tr>\n",
              "    <tr>\n",
              "      <th>155</th>\n",
              "      <td>Amazon Customer</td>\n",
              "      <td>Reviewed in India 🇮🇳 on 10 September 2021</td>\n",
              "      <td>5.0 out of 5 stars</td>\n",
              "      <td>Product just sells by its brand . Very powerfu...</td>\n",
              "      <td>Best part is its very handy and powerful.</td>\n",
              "    </tr>\n",
              "    <tr>\n",
              "      <th>156</th>\n",
              "      <td>Ashwin</td>\n",
              "      <td>Reviewed in India 🇮🇳 on 2 July 2021</td>\n",
              "      <td>5.0 out of 5 stars</td>\n",
              "      <td>Best iPhone model to go for in 2021</td>\n",
              "      <td>The size of this model is perfect, and has pow...</td>\n",
              "    </tr>\n",
              "    <tr>\n",
              "      <th>157</th>\n",
              "      <td>Fayaz</td>\n",
              "      <td>Reviewed in India 🇮🇳 on 21 May 2021</td>\n",
              "      <td>5.0 out of 5 stars</td>\n",
              "      <td>Superb!!!!</td>\n",
              "      <td>Such an amazing product!!!!.very compact and h...</td>\n",
              "    </tr>\n",
              "    <tr>\n",
              "      <th>158</th>\n",
              "      <td>vinutha</td>\n",
              "      <td>Reviewed in India 🇮🇳 on 11 April 2021</td>\n",
              "      <td>3.0 out of 5 stars</td>\n",
              "      <td>Heating issues and Less Battery backup. Can't ...</td>\n",
              "      <td>It has heating issues and battery backup is le...</td>\n",
              "    </tr>\n",
              "    <tr>\n",
              "      <th>159</th>\n",
              "      <td>Pathania G</td>\n",
              "      <td>Reviewed in India 🇮🇳 on 10 March 2021</td>\n",
              "      <td>5.0 out of 5 stars</td>\n",
              "      <td>Smaller the better !</td>\n",
              "      <td>Like the size finally an I phone I can hold in...</td>\n",
              "    </tr>\n",
              "  </tbody>\n",
              "</table>\n",
              "<p>160 rows × 5 columns</p>\n",
              "</div>\n",
              "      <button class=\"colab-df-convert\" onclick=\"convertToInteractive('df-a6bf0754-b08a-41ec-9fec-ecdaf2fe451e')\"\n",
              "              title=\"Convert this dataframe to an interactive table.\"\n",
              "              style=\"display:none;\">\n",
              "        \n",
              "  <svg xmlns=\"http://www.w3.org/2000/svg\" height=\"24px\"viewBox=\"0 0 24 24\"\n",
              "       width=\"24px\">\n",
              "    <path d=\"M0 0h24v24H0V0z\" fill=\"none\"/>\n",
              "    <path d=\"M18.56 5.44l.94 2.06.94-2.06 2.06-.94-2.06-.94-.94-2.06-.94 2.06-2.06.94zm-11 1L8.5 8.5l.94-2.06 2.06-.94-2.06-.94L8.5 2.5l-.94 2.06-2.06.94zm10 10l.94 2.06.94-2.06 2.06-.94-2.06-.94-.94-2.06-.94 2.06-2.06.94z\"/><path d=\"M17.41 7.96l-1.37-1.37c-.4-.4-.92-.59-1.43-.59-.52 0-1.04.2-1.43.59L10.3 9.45l-7.72 7.72c-.78.78-.78 2.05 0 2.83L4 21.41c.39.39.9.59 1.41.59.51 0 1.02-.2 1.41-.59l7.78-7.78 2.81-2.81c.8-.78.8-2.07 0-2.86zM5.41 20L4 18.59l7.72-7.72 1.47 1.35L5.41 20z\"/>\n",
              "  </svg>\n",
              "      </button>\n",
              "      \n",
              "  <style>\n",
              "    .colab-df-container {\n",
              "      display:flex;\n",
              "      flex-wrap:wrap;\n",
              "      gap: 12px;\n",
              "    }\n",
              "\n",
              "    .colab-df-convert {\n",
              "      background-color: #E8F0FE;\n",
              "      border: none;\n",
              "      border-radius: 50%;\n",
              "      cursor: pointer;\n",
              "      display: none;\n",
              "      fill: #1967D2;\n",
              "      height: 32px;\n",
              "      padding: 0 0 0 0;\n",
              "      width: 32px;\n",
              "    }\n",
              "\n",
              "    .colab-df-convert:hover {\n",
              "      background-color: #E2EBFA;\n",
              "      box-shadow: 0px 1px 2px rgba(60, 64, 67, 0.3), 0px 1px 3px 1px rgba(60, 64, 67, 0.15);\n",
              "      fill: #174EA6;\n",
              "    }\n",
              "\n",
              "    [theme=dark] .colab-df-convert {\n",
              "      background-color: #3B4455;\n",
              "      fill: #D2E3FC;\n",
              "    }\n",
              "\n",
              "    [theme=dark] .colab-df-convert:hover {\n",
              "      background-color: #434B5C;\n",
              "      box-shadow: 0px 1px 3px 1px rgba(0, 0, 0, 0.15);\n",
              "      filter: drop-shadow(0px 1px 2px rgba(0, 0, 0, 0.3));\n",
              "      fill: #FFFFFF;\n",
              "    }\n",
              "  </style>\n",
              "\n",
              "      <script>\n",
              "        const buttonEl =\n",
              "          document.querySelector('#df-a6bf0754-b08a-41ec-9fec-ecdaf2fe451e button.colab-df-convert');\n",
              "        buttonEl.style.display =\n",
              "          google.colab.kernel.accessAllowed ? 'block' : 'none';\n",
              "\n",
              "        async function convertToInteractive(key) {\n",
              "          const element = document.querySelector('#df-a6bf0754-b08a-41ec-9fec-ecdaf2fe451e');\n",
              "          const dataTable =\n",
              "            await google.colab.kernel.invokeFunction('convertToInteractive',\n",
              "                                                     [key], {});\n",
              "          if (!dataTable) return;\n",
              "\n",
              "          const docLinkHtml = 'Like what you see? Visit the ' +\n",
              "            '<a target=\"_blank\" href=https://colab.research.google.com/notebooks/data_table.ipynb>data table notebook</a>'\n",
              "            + ' to learn more about interactive tables.';\n",
              "          element.innerHTML = '';\n",
              "          dataTable['output_type'] = 'display_data';\n",
              "          await google.colab.output.renderOutput(dataTable, element);\n",
              "          const docLink = document.createElement('div');\n",
              "          docLink.innerHTML = docLinkHtml;\n",
              "          element.appendChild(docLink);\n",
              "        }\n",
              "      </script>\n",
              "    </div>\n",
              "  </div>\n",
              "  "
            ]
          },
          "metadata": {},
          "execution_count": 39
        }
      ]
    },
    {
      "cell_type": "code",
      "source": [
        "df.to_csv('output.csv',index=\"True\")"
      ],
      "metadata": {
        "id": "CWwyzmAwdoX5"
      },
      "execution_count": 40,
      "outputs": []
    },
    {
      "cell_type": "code",
      "metadata": {
        "id": "SJXOGkvu3mhS"
      },
      "source": [],
      "execution_count": 40,
      "outputs": []
    }
  ]
}